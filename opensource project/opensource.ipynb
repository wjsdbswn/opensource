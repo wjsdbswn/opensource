{
 "cells": [
  {
   "cell_type": "code",
   "execution_count": 3,
   "id": "e4419eef",
   "metadata": {},
   "outputs": [],
   "source": [
    "import cv2   #cv2 함수를 선언\n",
    "import numpy as np #numpy 함수 선언\n",
    "from os import listdir #지정 경로의 디렉토리 내의 모든 파일 이름을 리스트로 반환한다.\n",
    "from os.path import isfile, join #os.path 파일 선언\n",
    "import datetime #날짜를 나타내는 순차적인 일련 번호 반환\n",
    "from PIL import ImageFont, ImageDraw, Image #이미지 처리 함수\n"
   ]
  },
  {
   "cell_type": "code",
   "execution_count": 2,
   "id": "3cf350ed",
   "metadata": {
    "scrolled": false
   },
   "outputs": [],
   "source": [
    "\n",
    "import cv2\n",
    " \n",
    "# open webcam (웹캠 열기)\n",
    "webcam = cv2.VideoCapture(0)\n",
    " \n",
    "if not webcam.isOpened(): #웹캠이 없을시\n",
    "    print(\"Could not open webcam\")\n",
    "    exit()\n",
    "    \n",
    " \n",
    "sample_num = 0      \n",
    "captured_num = 0\n",
    "    \n",
    "#  프레임에 루프시키기\n",
    "while webcam.isOpened(): #비디오 캡쳐\n",
    "    \n",
    "    #웹캠에서 프레임을 읽기\n",
    "    status, frame = webcam.read()\n",
    "    sample_num = sample_num + 1 #프레임 순번 늘리기\n",
    "    \n",
    "    if not status:\n",
    "        break\n",
    " \n",
    "    # 결과 출력\n",
    "    cv2.imshow(\"captured frames\", frame)\n",
    "    \n",
    "    if sample_num == 4:     #4개 프레임 마다 하나씩\n",
    "        captured_num = captured_num + 1\n",
    "        cv2.imwrite('c:/users/tjdus/anaconda3/lib/site-packages/image'+str(captured_num)+'.jpg', frame)#코드 실행 경로에 저장\n",
    "        sample_num = 0\n",
    "        \n",
    "    \n",
    "    # q를 누르면 종료\n",
    "    if cv2.waitKey(1) & 0xFF == ord('q'):\n",
    "        break\n",
    "    \n",
    "# 소스 풀어주기 \n",
    "webcam.release()\n",
    "cv2.destroyAllWindows()   \n"
   ]
  },
  {
   "cell_type": "code",
   "execution_count": null,
   "id": "f28a7808",
   "metadata": {},
   "outputs": [],
   "source": []
  },
  {
   "cell_type": "code",
   "execution_count": null,
   "id": "b82d51ec",
   "metadata": {},
   "outputs": [],
   "source": []
  },
  {
   "cell_type": "code",
   "execution_count": null,
   "id": "471f9591",
   "metadata": {},
   "outputs": [],
   "source": []
  },
  {
   "cell_type": "code",
   "execution_count": null,
   "id": "89146021",
   "metadata": {},
   "outputs": [],
   "source": []
  },
  {
   "cell_type": "code",
   "execution_count": null,
   "id": "f2906c04",
   "metadata": {},
   "outputs": [],
   "source": []
  },
  {
   "cell_type": "code",
   "execution_count": null,
   "id": "93459a23",
   "metadata": {},
   "outputs": [],
   "source": []
  },
  {
   "cell_type": "code",
   "execution_count": null,
   "id": "9977637f",
   "metadata": {},
   "outputs": [],
   "source": []
  },
  {
   "cell_type": "code",
   "execution_count": null,
   "id": "c770b25e",
   "metadata": {},
   "outputs": [],
   "source": []
  },
  {
   "cell_type": "code",
   "execution_count": null,
   "id": "0dfaffea",
   "metadata": {},
   "outputs": [],
   "source": []
  }
 ],
 "metadata": {
  "kernelspec": {
   "display_name": "Python 3 (ipykernel)",
   "language": "python",
   "name": "python3"
  },
  "language_info": {
   "codemirror_mode": {
    "name": "ipython",
    "version": 3
   },
   "file_extension": ".py",
   "mimetype": "text/x-python",
   "name": "python",
   "nbconvert_exporter": "python",
   "pygments_lexer": "ipython3",
   "version": "3.9.12"
  }
 },
 "nbformat": 4,
 "nbformat_minor": 5
}
